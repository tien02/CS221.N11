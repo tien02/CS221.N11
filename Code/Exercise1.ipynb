{
  "nbformat": 4,
  "nbformat_minor": 0,
  "metadata": {
    "colab": {
      "provenance": [],
      "collapsed_sections": []
    },
    "kernelspec": {
      "name": "python3",
      "display_name": "Python 3"
    },
    "language_info": {
      "name": "python"
    }
  },
  "cells": [
    {
      "cell_type": "markdown",
      "source": [
        "1) Xây dựng một lớp TextStats như sau:\n",
        "- Hàm khởi tạo nhận vào đường dẫn đến một file text\n",
        "- Hàm stat() trả về một hashtable với key là từ và\n",
        "value là số lần xuất hiện của từ đó\n",
        "- Hàm top(k) trả về danh sách k từ có số lần xuất\n",
        "hiện cao nhất\n",
        "- Hàm save() lưu danh sách các từ word kèm theo\n",
        "số lần xuất hiện n của nó theo thứ tự n giảm dần.\n",
        "Định đạng lưu trữ là file text, mỗi dòng là thông tin\n",
        "một từ cách nhau bằng khoảng trắng: **word n**\n"
      ],
      "metadata": {
        "id": "SSP9MDK9byjG"
      }
    },
    {
      "cell_type": "code",
      "source": [
        "%%writefile text.txt\n",
        "Abstract In recent years, deep neural networks have been successful in both industry and academia, especially for computer vision tasks. The great success of deep learning is mainly due to its scalability to encode large-scale data and to maneuver billions of model parameters. However, it is a challenge to deploy these cumbersome deep models on devices with limited resources, e.g., mobile phones and embedded devices, not only because of the high computational complexity but also the large storage requirements. To this end, a variety of model compression and acceleration techniques have been developed. As a representative type of model compression and acceleration, knowledge distillation effectively learns a small student model from a large teacher model. It has received rapid increasing attention from the community. This paper provides a comprehensive survey of knowledge distillation from the perspectives of knowledge categories, training schemes, teacher-student architecture, distillation algorithms, performance comparison and applications. Furthermore, challenges in knowledge distillation are briefly reviewed and comments on future research are discussed and forwarded. "
      ],
      "metadata": {
        "id": "9417CEKRbZkb",
        "colab": {
          "base_uri": "https://localhost:8080/"
        },
        "outputId": "eeb29e40-e6bf-4e88-b328-5e5ded6a4c9d"
      },
      "execution_count": 1,
      "outputs": [
        {
          "output_type": "stream",
          "name": "stdout",
          "text": [
            "Writing text.txt\n"
          ]
        }
      ]
    },
    {
      "cell_type": "code",
      "source": [
        "import nltk\n",
        "nltk.download('punkt')\n",
        "from nltk.tokenize import sent_tokenize\n",
        "from nltk.tokenize import word_tokenize\n",
        "from collections import Counter\n",
        "from pprint import pprint"
      ],
      "metadata": {
        "colab": {
          "base_uri": "https://localhost:8080/"
        },
        "id": "sV-kxYHxdWz-",
        "outputId": "078f09b4-d0e5-4799-c65d-e4dcaae9e834"
      },
      "execution_count": 2,
      "outputs": [
        {
          "output_type": "stream",
          "name": "stderr",
          "text": [
            "[nltk_data] Downloading package punkt to /root/nltk_data...\n",
            "[nltk_data]   Unzipping tokenizers/punkt.zip.\n"
          ]
        }
      ]
    },
    {
      "cell_type": "code",
      "source": [
        "class TextStats:\n",
        "  def __init__(self, txt_dir):\n",
        "    self.file =  open(txt_dir, 'r', encoding='utf-8')\n",
        "    self.vocab_dict = Counter()\n",
        "  def stat(self):\n",
        "    for content in self.file:\n",
        "      sentences = sent_tokenize(content)\n",
        "      for sentence in sentences:\n",
        "        sentence = sentence.lower()\n",
        "        words_dict = Counter(word_tokenize(sentence))\n",
        "        for word in words_dict.keys():\n",
        "          if word in self.vocab_dict:\n",
        "            self.vocab_dict[word] += words_dict[word]\n",
        "          else:\n",
        "            self.vocab_dict[word] = words_dict[word]\n",
        "    return self.vocab_dict\n",
        "  \n",
        "  def top(self, k):\n",
        "    return self.vocab_dict.most_common(k)\n",
        "\n",
        "  def save(self):\n",
        "    save_dict = {k: v for k, v in sorted(self.vocab_dict.items(), key=lambda item: item[1], reverse=True)}\n",
        "    with open(\"vocab_dict.txt\", 'w') as f: \n",
        "      for key, value in save_dict.items(): \n",
        "          f.write(f\"{key} {value}\\n\")\n",
        "    print(\">> Saved in vocab_dict.txt\")"
      ],
      "metadata": {
        "id": "crbM_K_I3GaA"
      },
      "execution_count": 3,
      "outputs": []
    },
    {
      "cell_type": "code",
      "source": [
        "textstats = TextStats(\"/content/text.txt\")"
      ],
      "metadata": {
        "id": "GsPhAAye9tP4"
      },
      "execution_count": 4,
      "outputs": []
    },
    {
      "cell_type": "code",
      "source": [
        "stat = textstats.stat()\n",
        "pprint(stat)"
      ],
      "metadata": {
        "colab": {
          "base_uri": "https://localhost:8080/"
        },
        "id": "7M1SDhSS914n",
        "outputId": "76c8d318-10f6-4e8b-db75-1a11a5a88964"
      },
      "execution_count": 5,
      "outputs": [
        {
          "output_type": "stream",
          "name": "stdout",
          "text": [
            "Counter({',': 13,\n",
            "         'and': 8,\n",
            "         '.': 8,\n",
            "         'of': 7,\n",
            "         'a': 6,\n",
            "         'the': 5,\n",
            "         'to': 5,\n",
            "         'model': 5,\n",
            "         'knowledge': 4,\n",
            "         'distillation': 4,\n",
            "         'in': 3,\n",
            "         'deep': 3,\n",
            "         'from': 3,\n",
            "         'have': 2,\n",
            "         'been': 2,\n",
            "         'is': 2,\n",
            "         'it': 2,\n",
            "         'on': 2,\n",
            "         'devices': 2,\n",
            "         'large': 2,\n",
            "         'this': 2,\n",
            "         'compression': 2,\n",
            "         'acceleration': 2,\n",
            "         'are': 2,\n",
            "         'abstract': 1,\n",
            "         'recent': 1,\n",
            "         'years': 1,\n",
            "         'neural': 1,\n",
            "         'networks': 1,\n",
            "         'successful': 1,\n",
            "         'both': 1,\n",
            "         'industry': 1,\n",
            "         'academia': 1,\n",
            "         'especially': 1,\n",
            "         'for': 1,\n",
            "         'computer': 1,\n",
            "         'vision': 1,\n",
            "         'tasks': 1,\n",
            "         'great': 1,\n",
            "         'success': 1,\n",
            "         'learning': 1,\n",
            "         'mainly': 1,\n",
            "         'due': 1,\n",
            "         'its': 1,\n",
            "         'scalability': 1,\n",
            "         'encode': 1,\n",
            "         'large-scale': 1,\n",
            "         'data': 1,\n",
            "         'maneuver': 1,\n",
            "         'billions': 1,\n",
            "         'parameters': 1,\n",
            "         'however': 1,\n",
            "         'challenge': 1,\n",
            "         'deploy': 1,\n",
            "         'these': 1,\n",
            "         'cumbersome': 1,\n",
            "         'models': 1,\n",
            "         'with': 1,\n",
            "         'limited': 1,\n",
            "         'resources': 1,\n",
            "         'e.g.': 1,\n",
            "         'mobile': 1,\n",
            "         'phones': 1,\n",
            "         'embedded': 1,\n",
            "         'not': 1,\n",
            "         'only': 1,\n",
            "         'because': 1,\n",
            "         'high': 1,\n",
            "         'computational': 1,\n",
            "         'complexity': 1,\n",
            "         'but': 1,\n",
            "         'also': 1,\n",
            "         'storage': 1,\n",
            "         'requirements': 1,\n",
            "         'end': 1,\n",
            "         'variety': 1,\n",
            "         'techniques': 1,\n",
            "         'developed': 1,\n",
            "         'as': 1,\n",
            "         'representative': 1,\n",
            "         'type': 1,\n",
            "         'effectively': 1,\n",
            "         'learns': 1,\n",
            "         'small': 1,\n",
            "         'student': 1,\n",
            "         'teacher': 1,\n",
            "         'has': 1,\n",
            "         'received': 1,\n",
            "         'rapid': 1,\n",
            "         'increasing': 1,\n",
            "         'attention': 1,\n",
            "         'community': 1,\n",
            "         'paper': 1,\n",
            "         'provides': 1,\n",
            "         'comprehensive': 1,\n",
            "         'survey': 1,\n",
            "         'perspectives': 1,\n",
            "         'categories': 1,\n",
            "         'training': 1,\n",
            "         'schemes': 1,\n",
            "         'teacher-student': 1,\n",
            "         'architecture': 1,\n",
            "         'algorithms': 1,\n",
            "         'performance': 1,\n",
            "         'comparison': 1,\n",
            "         'applications': 1,\n",
            "         'furthermore': 1,\n",
            "         'challenges': 1,\n",
            "         'briefly': 1,\n",
            "         'reviewed': 1,\n",
            "         'comments': 1,\n",
            "         'future': 1,\n",
            "         'research': 1,\n",
            "         'discussed': 1,\n",
            "         'forwarded': 1})\n"
          ]
        }
      ]
    },
    {
      "cell_type": "code",
      "source": [
        "k = 10\n",
        "top = textstats.top(k)\n",
        "pprint(top)"
      ],
      "metadata": {
        "colab": {
          "base_uri": "https://localhost:8080/"
        },
        "id": "3Yq1t_DD4cuV",
        "outputId": "28ed102d-bddb-41d0-990a-a8f8eb999e9d"
      },
      "execution_count": 6,
      "outputs": [
        {
          "output_type": "stream",
          "name": "stdout",
          "text": [
            "[(',', 13),\n",
            " ('and', 8),\n",
            " ('.', 8),\n",
            " ('of', 7),\n",
            " ('a', 6),\n",
            " ('the', 5),\n",
            " ('to', 5),\n",
            " ('model', 5),\n",
            " ('knowledge', 4),\n",
            " ('distillation', 4)]\n"
          ]
        }
      ]
    },
    {
      "cell_type": "code",
      "source": [
        "textstats.save()"
      ],
      "metadata": {
        "id": "G9N94PQO5ICG",
        "colab": {
          "base_uri": "https://localhost:8080/"
        },
        "outputId": "0ccfde95-19d6-45d1-b302-916a9ff25023"
      },
      "execution_count": 7,
      "outputs": [
        {
          "output_type": "stream",
          "name": "stdout",
          "text": [
            ">> Saved in vocab_dict.txt\n"
          ]
        }
      ]
    },
    {
      "cell_type": "markdown",
      "source": [
        "2) Xây dựng một lớp Matrix để thể hiện ma trận với\n",
        "các yêu cầu sau:\n",
        "- Hàm input() nhập ma trận. Để tạo mảng hai chiều,\n",
        "cần tạo mảng một chiều của các mảng một chiều\n",
        "\n",
        "mảng = []\n",
        "\n",
        "mảng.append([])\n",
        "\n",
        "mảng[i].append(x)\n",
        "\n",
        "- Hàm sum(b) cộng ma trận hiện tại với ma trận b,\n",
        "trả về một ma trận tổng.\n",
        "- Hàm mult(b) nhân ma trận hiện tại với ma trận b,\n",
        "trả về một ma trận kết quả."
      ],
      "metadata": {
        "id": "TQUZu0cf_y8S"
      }
    },
    {
      "cell_type": "code",
      "source": [
        "import numpy as np"
      ],
      "metadata": {
        "id": "puNvEEMgeFUL"
      },
      "execution_count": 8,
      "outputs": []
    },
    {
      "cell_type": "code",
      "source": [
        "class Matrix:\n",
        "  def __init__(self, row, column):\n",
        "    self.row = row\n",
        "    self.column = column\n",
        "    self.matrix = np.zeros((row, column))\n",
        "  \n",
        "  def input(self):\n",
        "    for i in range(self.row):\n",
        "      arr = input(f\"Enter row {i}: \")\n",
        "      arr = arr.split()\n",
        "      assert len(arr) == self.column, \"Number of elements did not match the number of column\"\n",
        "      arr = list(map(int, arr))\n",
        "      self.matrix[i, :] += arr\n",
        "    \n",
        "  def sum(self, b):\n",
        "    assert self.matrix.shape == b.matrix.shape, \"Matrix dimension does not match\"\n",
        "\n",
        "    self.matrix = self.matrix + b.matrix\n",
        "  \n",
        "  def mult(self, b):\n",
        "    assert self.matrix.shape == b.matrix.shape, \"Matrix dimension does not match\"\n",
        "\n",
        "    self.matrix = self.matrix * b.matrix"
      ],
      "metadata": {
        "id": "NSqmoHtgHn_y"
      },
      "execution_count": 9,
      "outputs": []
    },
    {
      "cell_type": "code",
      "source": [
        "matrix_1 = Matrix(2, 3)\n",
        "matrix_1.input()\n",
        "matrix_1.matrix"
      ],
      "metadata": {
        "colab": {
          "base_uri": "https://localhost:8080/"
        },
        "id": "vmcF3JIadx8o",
        "outputId": "b5eed036-2174-4e70-8102-0bdefeea9be1"
      },
      "execution_count": 10,
      "outputs": [
        {
          "name": "stdout",
          "output_type": "stream",
          "text": [
            "Enter row 0: 1 2 3\n",
            "Enter row 1: 4 5 6\n"
          ]
        },
        {
          "output_type": "execute_result",
          "data": {
            "text/plain": [
              "array([[1., 2., 3.],\n",
              "       [4., 5., 6.]])"
            ]
          },
          "metadata": {},
          "execution_count": 10
        }
      ]
    },
    {
      "cell_type": "code",
      "source": [
        "matrix_2 = Matrix(2, 3)\n",
        "matrix_2.input()\n",
        "matrix_2.matrix"
      ],
      "metadata": {
        "colab": {
          "base_uri": "https://localhost:8080/"
        },
        "id": "kSBZYtezdyXX",
        "outputId": "9874d989-7574-49d9-d01b-4e4e520bd0c9"
      },
      "execution_count": 11,
      "outputs": [
        {
          "name": "stdout",
          "output_type": "stream",
          "text": [
            "Enter row 0: 4 5 6\n",
            "Enter row 1: 7 8 9\n"
          ]
        },
        {
          "output_type": "execute_result",
          "data": {
            "text/plain": [
              "array([[4., 5., 6.],\n",
              "       [7., 8., 9.]])"
            ]
          },
          "metadata": {},
          "execution_count": 11
        }
      ]
    },
    {
      "cell_type": "code",
      "source": [
        "matrix_1.sum(matrix_2)\n",
        "matrix_1.matrix"
      ],
      "metadata": {
        "colab": {
          "base_uri": "https://localhost:8080/"
        },
        "id": "AwOwhfZwi-Tr",
        "outputId": "059ec26f-2691-4147-c9f7-5d5834d69f21"
      },
      "execution_count": 12,
      "outputs": [
        {
          "output_type": "execute_result",
          "data": {
            "text/plain": [
              "array([[ 5.,  7.,  9.],\n",
              "       [11., 13., 15.]])"
            ]
          },
          "metadata": {},
          "execution_count": 12
        }
      ]
    },
    {
      "cell_type": "code",
      "source": [
        "matrix_1.mult(matrix_2)\n",
        "matrix_1.matrix"
      ],
      "metadata": {
        "colab": {
          "base_uri": "https://localhost:8080/"
        },
        "id": "d13e8rKWkCIt",
        "outputId": "d5e41b45-fea0-4f64-88a9-d39d76577d32"
      },
      "execution_count": 13,
      "outputs": [
        {
          "output_type": "execute_result",
          "data": {
            "text/plain": [
              "array([[ 20.,  35.,  54.],\n",
              "       [ 77., 104., 135.]])"
            ]
          },
          "metadata": {},
          "execution_count": 13
        }
      ]
    },
    {
      "cell_type": "markdown",
      "source": [
        "1) Viết chương trình nhập vào một dãy số, sắp xếp\n",
        "theo thứ tự giảm dần."
      ],
      "metadata": {
        "id": "60pSQ7Jh_zkG"
      }
    },
    {
      "cell_type": "code",
      "source": [
        "9\n",
        "arr = []\n",
        "n = int(input(\"Enter the number of elements in array: \"))\n",
        "for i in range(n):\n",
        "  arr.append(int(input(f\"Nhap phan tu thu {i}: \")))\n",
        "print(sorted(arr, reverse=True))"
      ],
      "metadata": {
        "colab": {
          "base_uri": "https://localhost:8080/"
        },
        "id": "Y6slVnfCBe7q",
        "outputId": "351ec828-928a-4a89-a519-7376c8ad11f4"
      },
      "execution_count": 14,
      "outputs": [
        {
          "output_type": "stream",
          "name": "stdout",
          "text": [
            "Enter the number of elements in array: 6\n",
            "Nhap phan tu thu 0: 5\n",
            "Nhap phan tu thu 1: 9\n",
            "Nhap phan tu thu 2: 4\n",
            "Nhap phan tu thu 3: 6\n",
            "Nhap phan tu thu 4: 3\n",
            "Nhap phan tu thu 5: 8\n",
            "[9, 8, 6, 5, 4, 3]\n"
          ]
        }
      ]
    },
    {
      "cell_type": "markdown",
      "source": [
        "2) Nhập vào danh sách tọa độ và in ra hai điểm gần\n",
        "nhau nhất."
      ],
      "metadata": {
        "id": "Q6H5s5_HA4dl"
      }
    },
    {
      "cell_type": "code",
      "source": [
        "from scipy.spatial.distance import euclidean"
      ],
      "metadata": {
        "id": "hvNNuftKFR-u"
      },
      "execution_count": 15,
      "outputs": []
    },
    {
      "cell_type": "code",
      "source": [
        "arr = []\n",
        "n = int(input(\"Enter the number of coordinates: \"))\n",
        "for i in range(n):\n",
        "  a, b = input(\"Enter x and y: \").split()\n",
        "  arr.append([int(a), int(b)])\n",
        "print(arr)"
      ],
      "metadata": {
        "colab": {
          "base_uri": "https://localhost:8080/"
        },
        "id": "EPoLGx4THFDs",
        "outputId": "98ae3506-f196-44e2-ebaa-46cfccf8c494"
      },
      "execution_count": 16,
      "outputs": [
        {
          "output_type": "stream",
          "name": "stdout",
          "text": [
            "Enter the number of coordinates: 3\n",
            "Enter x and y: 1 6\n",
            "Enter x and y: 2 5\n",
            "Enter x and y: 3 7\n",
            "[[1, 6], [2, 5], [3, 7]]\n"
          ]
        }
      ]
    },
    {
      "cell_type": "code",
      "source": [
        "min_dis = 100.0\n",
        "a = 0\n",
        "b = 0\n",
        "for i in range(len(arr) - 1):\n",
        "  for j in range(i+1, len(arr)):\n",
        "    distance = euclidean(arr[i], arr[j])\n",
        "    print(arr[i], arr[j], distance)\n",
        "    if distance < min_dis:\n",
        "      min_dis = distance\n",
        "      a = i\n",
        "      b = j\n",
        "print(f\"2 data points which have minimum distance is {arr[a]} and {arr[b]}\")"
      ],
      "metadata": {
        "colab": {
          "base_uri": "https://localhost:8080/"
        },
        "id": "YLVO3p4bBeR4",
        "outputId": "1694f00a-95b2-4464-d8f2-147dbd44f4c5"
      },
      "execution_count": 17,
      "outputs": [
        {
          "output_type": "stream",
          "name": "stdout",
          "text": [
            "[1, 6] [2, 5] 1.4142135623730951\n",
            "[1, 6] [3, 7] 2.23606797749979\n",
            "[2, 5] [3, 7] 2.23606797749979\n",
            "2 data points which have minimum distance is [1, 6] and [2, 5]\n"
          ]
        }
      ]
    }
  ]
}